{
  "nbformat": 4,
  "nbformat_minor": 0,
  "metadata": {
    "colab": {
      "provenance": [],
      "authorship_tag": "ABX9TyOfbu5efCb+CfgfFd8Srtws",
      "include_colab_link": true
    },
    "kernelspec": {
      "name": "python3",
      "display_name": "Python 3"
    },
    "language_info": {
      "name": "python"
    }
  },
  "cells": [
    {
      "cell_type": "markdown",
      "metadata": {
        "id": "view-in-github",
        "colab_type": "text"
      },
      "source": [
        "<a href=\"https://colab.research.google.com/github/ealger22/CSC-302-W1-CSC-302-W2-202520-/blob/main/HW1-1.ipynb\" target=\"_parent\"><img src=\"https://colab.research.google.com/assets/colab-badge.svg\" alt=\"Open In Colab\"/></a>"
      ]
    },
    {
      "cell_type": "code",
      "execution_count": 1,
      "metadata": {
        "colab": {
          "base_uri": "https://localhost:8080/"
        },
        "id": "scNaMf1Q_Bl3",
        "outputId": "b52c3fef-6d33-4350-a4da-73c68b9c3fe6"
      },
      "outputs": [
        {
          "output_type": "stream",
          "name": "stdout",
          "text": [
            "Mounted at /content/drive\n"
          ]
        }
      ],
      "source": [
        "from google.colab import drive\n",
        "drive.mount('/content/drive')"
      ]
    },
    {
      "cell_type": "code",
      "source": [
        "import pandas as pd\n",
        "\n",
        "file_path = \"/content/drive/My Drive/Colab Notebooks/olympic_medals.csv\"\n",
        "df = pd.read_csv(file_path)\n",
        "\n",
        "print(df.head())\n"
      ],
      "metadata": {
        "colab": {
          "base_uri": "https://localhost:8080/"
        },
        "id": "kM0CflVzCEob",
        "outputId": "0527fdd9-c01e-4400-e819-7267da97d751"
      },
      "execution_count": 3,
      "outputs": [
        {
          "output_type": "stream",
          "name": "stdout",
          "text": [
            "  Gender       Event Location  Year Medal                   Name Nationality  \\\n",
            "0      M  10000M Men      Rio  2016     G          Mohamed FARAH         GBR   \n",
            "1      M  10000M Men      Rio  2016     S  Paul Kipngetich TANUI         KEN   \n",
            "2      M  10000M Men      Rio  2016     B           Tamirat TOLA         ETH   \n",
            "3      M  10000M Men  Beijing  2008     G        Kenenisa BEKELE         ETH   \n",
            "4      M  10000M Men  Beijing  2008     S         Sileshi SIHINE         ETH   \n",
            "\n",
            "     Result  \n",
            "0  25:05.17  \n",
            "1  27:05.64  \n",
            "2  27:06.26  \n",
            "3  27:01.17  \n",
            "4  27:02.77  \n"
          ]
        }
      ]
    },
    {
      "cell_type": "code",
      "source": [
        "# (a) Find the size of the DataFrame\n",
        "print(\"Shape of DataFrame:\", df.shape)\n",
        "\n",
        "# (b) Report data types of all columns\n",
        "print(\"Data types:\\n\", df.dtypes)\n",
        "\n",
        "# (c) Find the number of unique cities that hosted matches\n",
        "print(\"Unique host cities:\", df['Location'].nunique())  # I changed 'City' to 'Location' because the column name is different\n",
        "\n",
        "# (d) Find how many medals the USA team won\n",
        "usa_medals = df[df['Nationality'] == 'USA'].shape[0]\n",
        "print(\"Total medals won by USA:\", usa_medals)\n",
        "\n",
        "# (e) Find the total number of medals for each country\n",
        "medals_per_country = df.groupby('Nationality')['Medal'].count()\n",
        "print(\"Medals per country:\\n\", medals_per_country)\n"
      ],
      "metadata": {
        "colab": {
          "base_uri": "https://localhost:8080/"
        },
        "id": "pCwT3X7-C0aM",
        "outputId": "877ae64b-b647-4ec2-beaf-2ed63b0ce97b"
      },
      "execution_count": 6,
      "outputs": [
        {
          "output_type": "stream",
          "name": "stdout",
          "text": [
            "Shape of DataFrame: (2394, 8)\n",
            "Data types:\n",
            " Gender         object\n",
            "Event          object\n",
            "Location       object\n",
            "Year            int64\n",
            "Medal          object\n",
            "Name           object\n",
            "Nationality    object\n",
            "Result         object\n",
            "dtype: object\n",
            "Unique host cities: 23\n",
            "Total medals won by USA: 638\n",
            "Medals per country:\n",
            " Nationality\n",
            "ALG      9\n",
            "ARG      4\n",
            "AUS     57\n",
            "AUT      4\n",
            "BAH     12\n",
            "      ... \n",
            "URS    131\n",
            "USA    638\n",
            "VEN      2\n",
            "YUG      1\n",
            "ZAM      1\n",
            "Name: Medal, Length: 97, dtype: int64\n"
          ]
        }
      ]
    }
  ]
}