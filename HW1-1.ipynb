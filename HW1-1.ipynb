{
  "nbformat": 4,
  "nbformat_minor": 0,
  "metadata": {
    "colab": {
      "provenance": [],
      "authorship_tag": "ABX9TyOAUMMltD+EkvcZ6VtAEC7E",
      "include_colab_link": true
    },
    "kernelspec": {
      "name": "python3",
      "display_name": "Python 3"
    },
    "language_info": {
      "name": "python"
    }
  },
  "cells": [
    {
      "cell_type": "markdown",
      "metadata": {
        "id": "view-in-github",
        "colab_type": "text"
      },
      "source": [
        "<a href=\"https://colab.research.google.com/github/ealger22/CSC-302-W1-CSC-302-W2-202520-/blob/main/HW1-1.ipynb\" target=\"_parent\"><img src=\"https://colab.research.google.com/assets/colab-badge.svg\" alt=\"Open In Colab\"/></a>"
      ]
    },
    {
      "cell_type": "code",
      "execution_count": 1,
      "metadata": {
        "colab": {
          "base_uri": "https://localhost:8080/"
        },
        "id": "scNaMf1Q_Bl3",
        "outputId": "b52c3fef-6d33-4350-a4da-73c68b9c3fe6"
      },
      "outputs": [
        {
          "output_type": "stream",
          "name": "stdout",
          "text": [
            "Mounted at /content/drive\n"
          ]
        }
      ],
      "source": [
        "from google.colab import drive\n",
        "drive.mount('/content/drive')"
      ]
    },
    {
      "cell_type": "code",
      "source": [
        "import pandas as pd\n",
        "\n",
        "file_path = \"/content/drive/My Drive/Colab Notebooks/olympic_medals.csv\"\n",
        "df = pd.read_csv(file_path)\n",
        "\n",
        "print(df.head())\n"
      ],
      "metadata": {
        "colab": {
          "base_uri": "https://localhost:8080/"
        },
        "id": "kM0CflVzCEob",
        "outputId": "0527fdd9-c01e-4400-e819-7267da97d751"
      },
      "execution_count": 3,
      "outputs": [
        {
          "output_type": "stream",
          "name": "stdout",
          "text": [
            "  Gender       Event Location  Year Medal                   Name Nationality  \\\n",
            "0      M  10000M Men      Rio  2016     G          Mohamed FARAH         GBR   \n",
            "1      M  10000M Men      Rio  2016     S  Paul Kipngetich TANUI         KEN   \n",
            "2      M  10000M Men      Rio  2016     B           Tamirat TOLA         ETH   \n",
            "3      M  10000M Men  Beijing  2008     G        Kenenisa BEKELE         ETH   \n",
            "4      M  10000M Men  Beijing  2008     S         Sileshi SIHINE         ETH   \n",
            "\n",
            "     Result  \n",
            "0  25:05.17  \n",
            "1  27:05.64  \n",
            "2  27:06.26  \n",
            "3  27:01.17  \n",
            "4  27:02.77  \n"
          ]
        }
      ]
    },
    {
      "cell_type": "code",
      "source": [
        "# Strip column names to remove accidental spaces\n",
        "df.columns = df.columns.str.strip()\n",
        "\n",
        "# Ensure \"Year\" is numeric\n",
        "df[\"Year\"] = pd.to_numeric(df[\"Year\"], errors=\"coerce\")\n",
        "\n",
        "# Convert \"Result\" to numeric (if applicable)\n",
        "df[\"Result\"] = pd.to_numeric(df[\"Result\"], errors=\"coerce\")\n",
        "\n",
        "# Convert categorical columns for memory optimization\n",
        "categorical_cols = [\"Gender\", \"Event\", \"Location\", \"Medal\", \"Name\", \"Nationality\"]\n",
        "df[categorical_cols] = df[categorical_cols].astype(\"category\")"
      ],
      "metadata": {
        "id": "TeWKkhqIHT5W"
      },
      "execution_count": 9,
      "outputs": []
    },
    {
      "cell_type": "code",
      "source": [
        "import pandas as pd\n",
        "from google.colab import drive\n",
        "\n",
        "# 📌 Step 1: Mount Google Drive and Load the Dataset\n",
        "drive.mount('/content/drive')\n",
        "file_path = \"/content/drive/My Drive/Colab Notebooks/olympic_medals.csv\"  # Adjust if needed\n",
        "df = pd.read_csv(file_path)\n",
        "\n",
        "# 📌 Step 2: Data Cleaning & Optimization\n",
        "\n",
        "# Strip column names to remove accidental spaces\n",
        "df.columns = df.columns.str.strip()\n",
        "\n",
        "# Ensure \"Year\" is numeric\n",
        "df[\"Year\"] = pd.to_numeric(df[\"Year\"], errors=\"coerce\")\n",
        "\n",
        "# Convert \"Result\" to numeric (if applicable)\n",
        "df[\"Result\"] = pd.to_numeric(df[\"Result\"], errors=\"coerce\")\n",
        "\n",
        "# Convert categorical columns for memory optimization\n",
        "categorical_cols = [\"Gender\", \"Event\", \"Location\", \"Medal\", \"Name\", \"Nationality\"]\n",
        "df[categorical_cols] = df[categorical_cols].astype(\"category\")\n",
        "\n",
        "# 📌 Step 3: Perform Data Analysis\n",
        "\n",
        "# (a) Find the size of the DataFrame\n",
        "print(\"✅ Shape of DataFrame (Rows, Columns):\", df.shape)\n",
        "\n",
        "# (b) Report data types of all columns\n",
        "print(\"\\n🔹 Data Types:\\n\", df.dtypes)\n",
        "\n",
        "# (c) Find the number of unique cities that hosted matches (Using 'Location')\n",
        "unique_host_cities = df[\"Location\"].nunique()\n",
        "print(\"\\n🏙️ Unique host cities:\", unique_host_cities)\n",
        "\n",
        "# (d) Find the total number of medals won by the USA\n",
        "usa_medals = df[df[\"Nationality\"] == \"USA\"].shape[0]\n",
        "print(\"\\n🥇 Total medals won by USA:\", usa_medals)\n",
        "\n",
        "# (e) Find the total number of medals for each country (Fixing FutureWarning)\n",
        "medals_per_country = df.groupby(\"Nationality\", observed=True)[\"Medal\"].count().sort_values(ascending=False)\n",
        "print(\"\\n🌍 Medals per country:\\n\", medals_per_country)\n",
        "\n",
        "# ------------------------------- #\n",
        "#   📌 Changes Made in This Version #\n",
        "# ------------------------------- #\n",
        "# 1️⃣ Mounted Google Drive for direct file access.\n",
        "# 2️⃣ Removed leading/trailing spaces from column names to prevent errors.\n",
        "# 3️⃣ Ensured \"Year\" is numeric to avoid incorrect data processing.\n",
        "# 4️⃣ Converted \"Result\" to numeric (if applicable) for calculations.\n",
        "# 5️⃣ Optimized categorical columns (\"Gender\", \"Event\", \"Location\", etc.) for memory efficiency.\n",
        "# 6️⃣ Sorted medals per country in descending order for better readability.\n",
        "# 7️⃣ Fixed FutureWarning by adding \"observed=True\" in groupby() function.\n",
        "# 8️⃣ Added emojis in print statements to enhance output clarity.\n",
        "# ------------------------------- #\n"
      ],
      "metadata": {
        "colab": {
          "base_uri": "https://localhost:8080/"
        },
        "id": "UX4BUDCxIfxV",
        "outputId": "0676a655-aaff-4ca1-db5d-831cd27cb79f"
      },
      "execution_count": 11,
      "outputs": [
        {
          "output_type": "stream",
          "name": "stdout",
          "text": [
            "Drive already mounted at /content/drive; to attempt to forcibly remount, call drive.mount(\"/content/drive\", force_remount=True).\n",
            "✅ Shape of DataFrame (Rows, Columns): (2394, 8)\n",
            "\n",
            "🔹 Data Types:\n",
            " Gender         category\n",
            "Event          category\n",
            "Location       category\n",
            "Year              int64\n",
            "Medal          category\n",
            "Name           category\n",
            "Nationality    category\n",
            "Result          float64\n",
            "dtype: object\n",
            "\n",
            "🏙️ Unique host cities: 23\n",
            "\n",
            "🥇 Total medals won by USA: 638\n",
            "\n",
            "🌍 Medals per country:\n",
            " Nationality\n",
            "USA    638\n",
            "GBR    161\n",
            "URS    131\n",
            "KEN     87\n",
            "GDR     76\n",
            "      ... \n",
            "KSA      1\n",
            "GUA      1\n",
            "HAI      1\n",
            "ISL      1\n",
            "ZAM      1\n",
            "Name: Medal, Length: 97, dtype: int64\n"
          ]
        }
      ]
    }
  ]
}